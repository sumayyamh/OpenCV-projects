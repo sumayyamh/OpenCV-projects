{
 "cells": [
  {
   "cell_type": "code",
   "execution_count": 1,
   "metadata": {},
   "outputs": [
    {
     "name": "stdout",
     "output_type": "stream",
     "text": [
      "Number of detected license plates: 1\n"
     ]
    }
   ],
   "source": [
    "# import required libraries\n",
    "import cv2\n",
    "import numpy as np\n",
    "\n",
    "# Read input image\n",
    "img = cv2.imread('D:\\Computer Vision\\OCR\\car2.JPG')\n",
    "\n",
    "\n",
    "# convert input image to grayscale\n",
    "gray = cv2.cvtColor(img, cv2.COLOR_BGR2RGB)\n",
    "\n",
    "# read haarcascade for number plate detection\n",
    "cascade = cv2.CascadeClassifier('D:\\Computer Vision\\OCR\\haarcascade_russian_plate_number.xml')\n",
    "\n",
    "# Detect license number plates\n",
    "plates = cascade.detectMultiScale(gray, 1.2, 5)\n",
    "print('Number of detected license plates:', len(plates))\n",
    "\n",
    "# loop over all plates\n",
    "for (x,y,w,h) in plates:\n",
    "   \n",
    "   # draw bounding rectangle around the license number plate\n",
    "   cv2.rectangle(gray, (x,y), (x+w, y+h), (0,255,0), 2)\n",
    "   gray_plates = gray[y:y+h, x:x+w]\n",
    "   #color_plates = img[y:y+h, x:x+w]\n",
    "   \n",
    "   # save number plate detected\n",
    "   cv2.imwrite('Numberplate.jpg', gray_plates)\n",
    "   cv2.imshow('Number Plate', gray_plates)\n",
    "   cv2.imshow('Number Plate Image', img)\n",
    "   cv2.waitKey(0)\n",
    "   cv2.destroyAllWindows()"
   ]
  }
 ],
 "metadata": {
  "kernelspec": {
   "display_name": "Python 3",
   "language": "python",
   "name": "python3"
  },
  "language_info": {
   "codemirror_mode": {
    "name": "ipython",
    "version": 3
   },
   "file_extension": ".py",
   "mimetype": "text/x-python",
   "name": "python",
   "nbconvert_exporter": "python",
   "pygments_lexer": "ipython3",
   "version": "3.11.2"
  },
  "orig_nbformat": 4
 },
 "nbformat": 4,
 "nbformat_minor": 2
}
